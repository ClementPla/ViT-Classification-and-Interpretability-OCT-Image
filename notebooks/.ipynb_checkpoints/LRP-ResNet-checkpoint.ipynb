{
 "cells": [
  {
   "cell_type": "code",
   "execution_count": 1,
   "metadata": {},
   "outputs": [],
   "source": [
    "import sys\n",
    "import torch\n",
    "sys.path.append('../')\n",
    "from experiment import OCTClassification\n",
    "import tqdm\n",
    "from vit_grad_rollout import VITAttentionGradRollout\n",
    "from nntools.utils import Config\n",
    "import matplotlib.pyplot as plt\n",
    "import cv2\n",
    "import numpy as np\n",
    "import os\n"
   ]
  },
  {
   "cell_type": "code",
   "execution_count": 2,
   "metadata": {},
   "outputs": [
    {
     "name": "stderr",
     "output_type": "stream",
     "text": [
      "WARNING:root:Malformed experiment 'OCT-Classification'. Detailed error Yaml file '/home/clement/Documents/Clement/runs/OCT-Classification/meta.yaml' does not exist.\n",
      "Traceback (most recent call last):\n",
      "  File \"/home/clement/anaconda3/envs/py37/lib/python3.7/site-packages/mlflow/store/tracking/file_store.py\", line 237, in list_experiments\n",
      "    experiment = self._get_experiment(exp_id, view_type)\n",
      "  File \"/home/clement/anaconda3/envs/py37/lib/python3.7/site-packages/mlflow/store/tracking/file_store.py\", line 311, in _get_experiment\n",
      "    meta = read_yaml(experiment_dir, FileStore.META_DATA_FILE_NAME)\n",
      "  File \"/home/clement/anaconda3/envs/py37/lib/python3.7/site-packages/mlflow/utils/file_utils.py\", line 170, in read_yaml\n",
      "    raise MissingConfigException(\"Yaml file '%s' does not exist.\" % file_path)\n",
      "mlflow.exceptions.MissingConfigException: Yaml file '/home/clement/Documents/Clement/runs/OCT-Classification/meta.yaml' does not exist.\n",
      "WARNING:root:Malformed experiment 'FundusClassification'. Detailed error Yaml file '/home/clement/Documents/Clement/runs/FundusClassification/meta.yaml' does not exist.\n",
      "Traceback (most recent call last):\n",
      "  File \"/home/clement/anaconda3/envs/py37/lib/python3.7/site-packages/mlflow/store/tracking/file_store.py\", line 237, in list_experiments\n",
      "    experiment = self._get_experiment(exp_id, view_type)\n",
      "  File \"/home/clement/anaconda3/envs/py37/lib/python3.7/site-packages/mlflow/store/tracking/file_store.py\", line 311, in _get_experiment\n",
      "    meta = read_yaml(experiment_dir, FileStore.META_DATA_FILE_NAME)\n",
      "  File \"/home/clement/anaconda3/envs/py37/lib/python3.7/site-packages/mlflow/utils/file_utils.py\", line 170, in read_yaml\n",
      "    raise MissingConfigException(\"Yaml file '%s' does not exist.\" % file_path)\n",
      "mlflow.exceptions.MissingConfigException: Yaml file '/home/clement/Documents/Clement/runs/FundusClassification/meta.yaml' does not exist.\n",
      "WARNING:root:Malformed experiment 'server'. Detailed error Yaml file '/home/clement/Documents/Clement/runs/server/meta.yaml' does not exist.\n",
      "Traceback (most recent call last):\n",
      "  File \"/home/clement/anaconda3/envs/py37/lib/python3.7/site-packages/mlflow/store/tracking/file_store.py\", line 237, in list_experiments\n",
      "    experiment = self._get_experiment(exp_id, view_type)\n",
      "  File \"/home/clement/anaconda3/envs/py37/lib/python3.7/site-packages/mlflow/store/tracking/file_store.py\", line 311, in _get_experiment\n",
      "    meta = read_yaml(experiment_dir, FileStore.META_DATA_FILE_NAME)\n",
      "  File \"/home/clement/anaconda3/envs/py37/lib/python3.7/site-packages/mlflow/utils/file_utils.py\", line 170, in read_yaml\n",
      "    raise MissingConfigException(\"Yaml file '%s' does not exist.\" % file_path)\n",
      "mlflow.exceptions.MissingConfigException: Yaml file '/home/clement/Documents/Clement/runs/server/meta.yaml' does not exist.\n",
      "WARNING:root:Malformed experiment 'mlruns'. Detailed error Yaml file '/home/clement/Documents/Clement/runs/mlruns/meta.yaml' does not exist.\n",
      "Traceback (most recent call last):\n",
      "  File \"/home/clement/anaconda3/envs/py37/lib/python3.7/site-packages/mlflow/store/tracking/file_store.py\", line 237, in list_experiments\n",
      "    experiment = self._get_experiment(exp_id, view_type)\n",
      "  File \"/home/clement/anaconda3/envs/py37/lib/python3.7/site-packages/mlflow/store/tracking/file_store.py\", line 311, in _get_experiment\n",
      "    meta = read_yaml(experiment_dir, FileStore.META_DATA_FILE_NAME)\n",
      "  File \"/home/clement/anaconda3/envs/py37/lib/python3.7/site-packages/mlflow/utils/file_utils.py\", line 170, in read_yaml\n",
      "    raise MissingConfigException(\"Yaml file '%s' does not exist.\" % file_path)\n",
      "mlflow.exceptions.MissingConfigException: Yaml file '/home/clement/Documents/Clement/runs/mlruns/meta.yaml' does not exist.\n"
     ]
    }
   ],
   "source": [
    "config_path = '../config.yaml'\n",
    "config = Config(config_path)\n",
    "experiment = OCTClassification(config)"
   ]
  },
  {
   "cell_type": "code",
   "execution_count": 3,
   "metadata": {},
   "outputs": [
    {
     "name": "stdout",
     "output_type": "stream",
     "text": [
      "Loading model from  /home/clement/Documents/Clement/runs/mlruns/1/505896c1301b4f6790efd15dca57b8f9/artifacts/iteration_25000_mIoU_0920.pth\n"
     ]
    }
   ],
   "source": [
    "path = '/home/clement/Documents/Clement/runs/mlruns/1/505896c1301b4f6790efd15dca57b8f9/artifacts/iteration_25000_mIoU_0920.pth'\n",
    "model = experiment.model\n",
    "model.load(path)\n",
    "model = model.network.cuda()\n",
    "model.eval()\n",
    "grad_rollout = VITAttentionGradRollout(model, discard_ratio=0.75)\n",
    "\n"
   ]
  },
  {
   "cell_type": "code",
   "execution_count": 4,
   "metadata": {
    "scrolled": false
   },
   "outputs": [],
   "source": [
    "def show_cam_on_image(img, mask, alpha):\n",
    "    heatmap = cv2.applyColorMap(np.uint8(255 * mask), cv2.COLORMAP_JET)\n",
    "    heatmap = np.float32(heatmap) / 255\n",
    "    cam = heatmap*alpha + (1-alpha)*np.float32(img)\n",
    "    cam = cam / np.max(cam)\n",
    "    return cam\n",
    "\n"
   ]
  },
  {
   "cell_type": "code",
   "execution_count": 5,
   "metadata": {
    "scrolled": false
   },
   "outputs": [
    {
     "name": "stderr",
     "output_type": "stream",
     "text": [
      "100%|██████████| 1000/1000 [01:23<00:00, 11.93it/s]\n"
     ]
    }
   ],
   "source": [
    "preds = []\n",
    "gts = []\n",
    "index = np.arange(1000)\n",
    "np.random.shuffle(index)    \n",
    "output_vit = 'Explained-ViT-AttentionRollout/'\n",
    "dataset = experiment.test_dataset\n",
    "labels = {} \n",
    "for k, v in dataset.map_class.items():\n",
    "    labels[v] = k\n",
    "if not os.path.exists(output_vit):\n",
    "    os.makedirs(output_vit)\n",
    "existing_files = os.listdir(output_vit)\n",
    "    \n",
    "\n",
    "def explain_map():\n",
    "    for i in tqdm.tqdm(index):\n",
    "        img, gt = dataset[i]\n",
    "        filename = dataset.filename(i)\n",
    "#         if filename in existing_files:\n",
    "#             continue\n",
    "        img = img.unsqueeze(0).cuda()\n",
    "        attention, prediction = grad_rollout(img)\n",
    "        attention = np.asarray(attention)\n",
    "        attention = cv2.resize(attention, dsize=(384,384))\n",
    "        img = img.cpu().squeeze().numpy().transpose((1,2,0))\n",
    "        img = (img-img.min())/(img.max()-img.min())\n",
    "\n",
    "\n",
    "        out = show_cam_on_image(img, attention, 1)\n",
    "        \n",
    "        filepath = dataset.img_filepath[i] \n",
    "        inp = cv2.imread(filepath)\n",
    "        out = cv2.resize(out, dsize=inp.shape[:2][::-1])\n",
    "        cv2.imwrite(os.path.join(output_vit, filename), (255*out).astype(np.uint8))\n",
    "\n",
    "    \n",
    "        \n",
    "explain_map()\n",
    "\n",
    "        \n",
    "\n",
    "\n",
    "    \n"
   ]
  },
  {
   "cell_type": "code",
   "execution_count": 6,
   "metadata": {},
   "outputs": [
    {
     "name": "stdout",
     "output_type": "stream",
     "text": [
      "0.0\n"
     ]
    }
   ],
   "source": [
    "gts = np.asarray([int(_) for _ in gts])\n",
    "preds = np.asarray([int(_) for _ in preds ])\n",
    "print(np.sum(gts==preds)/1000)"
   ]
  },
  {
   "cell_type": "code",
   "execution_count": null,
   "metadata": {},
   "outputs": [],
   "source": []
  }
 ],
 "metadata": {
  "kernelspec": {
   "display_name": "Python [conda env:py37] *",
   "language": "python",
   "name": "conda-env-py37-py"
  },
  "language_info": {
   "codemirror_mode": {
    "name": "ipython",
    "version": 3
   },
   "file_extension": ".py",
   "mimetype": "text/x-python",
   "name": "python",
   "nbconvert_exporter": "python",
   "pygments_lexer": "ipython3",
   "version": "3.7.4"
  }
 },
 "nbformat": 4,
 "nbformat_minor": 2
}
