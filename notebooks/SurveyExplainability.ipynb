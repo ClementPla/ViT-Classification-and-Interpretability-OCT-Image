{
 "cells": [
  {
   "cell_type": "code",
   "execution_count": 16,
   "metadata": {},
   "outputs": [],
   "source": [
    "import matplotlib.pyplot as plt\n",
    "import os\n",
    "import cv2\n"
   ]
  },
  {
   "cell_type": "code",
   "execution_count": 17,
   "metadata": {},
   "outputs": [],
   "source": [
    "folders =[\n",
    "    'KermanyTestSet',\n",
    "    'ViT-LRP-Explained_Kermany',\n",
    "    'OpticNet-Explained-GradCam_Kermany'\n",
    "]\n",
    "list_files = os.listdir(folders[0])"
   ]
  },
  {
   "cell_type": "code",
   "execution_count": 22,
   "metadata": {},
   "outputs": [],
   "source": [
    "output = 'combined_explanability'\n",
    "\n",
    "if not os.path.exists(output ):\n",
    "    os.makedirs(output )\n",
    "\n",
    "for f in list_files:\n",
    "    img = cv2.imread(os.path.join(folders[0], f))[...,::-1]\n",
    "    lrp = cv2.imread(os.path.join(folders[1], f))[...,::-1]\n",
    "    grad_cam = cv2.imread(os.path.join(folders[2], f))[...,::-1]\n",
    "    fig, axs = plt.subplots(1,3)\n",
    "    fig.set_size_inches(27,9)\n",
    "    axs[0].imshow(grad_cam)\n",
    "    axs[1].imshow(img)\n",
    "    axs[2].imshow(lrp)\n",
    "    for ax in axs:\n",
    "        ax.grid(False)\n",
    "        # Hide axes ticks\n",
    "        ax.set_xticks([])\n",
    "        ax.set_yticks([])\n",
    "    plt.tight_layout()\n",
    "    plt.savefig(os.path.join(output, f))\n",
    "    plt.close()"
   ]
  },
  {
   "cell_type": "code",
   "execution_count": null,
   "metadata": {},
   "outputs": [],
   "source": []
  }
 ],
 "metadata": {
  "kernelspec": {
   "display_name": "Python [conda env:py37] *",
   "language": "python",
   "name": "conda-env-py37-py"
  },
  "language_info": {
   "codemirror_mode": {
    "name": "ipython",
    "version": 3
   },
   "file_extension": ".py",
   "mimetype": "text/x-python",
   "name": "python",
   "nbconvert_exporter": "python",
   "pygments_lexer": "ipython3",
   "version": "3.7.4"
  }
 },
 "nbformat": 4,
 "nbformat_minor": 2
}
