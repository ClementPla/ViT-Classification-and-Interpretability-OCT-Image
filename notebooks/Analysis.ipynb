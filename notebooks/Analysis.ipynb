{
 "cells": [
  {
   "cell_type": "code",
   "execution_count": 3,
   "metadata": {},
   "outputs": [],
   "source": [
    "import cv2\n",
    "import os\n",
    "import pandas as pd\n",
    "import numpy as np"
   ]
  },
  {
   "cell_type": "code",
   "execution_count": 28,
   "metadata": {},
   "outputs": [],
   "source": [
    "ROOT_FILE = '/home/clement/Documents/database/CellData/OCT/test'\n",
    "\n",
    "map_label = {3:'NORMAL', 0:'CNV', 2:'DRUSEN', 1:'DME'}\n",
    "out_folder = 'ResNet/'\n",
    "if not os.path.exists(out_folder):\n",
    "    os.makedirs(out_folder)\n",
    "    \n",
    "for v in map_label.values():\n",
    "    if not os.path.exists(os.path.join(out_folder, v)):\n",
    "        os.makedirs(os.path.join(out_folder, v))\n",
    "def list_error_images(path2csv):\n",
    "    df = pd.read_csv(path2csv)\n",
    "    df = df[df.prediction!=df.groundtruth]\n",
    "    for index, row in df.iterrows():\n",
    "        f = row.file\n",
    "        \n",
    "        img_path = os.path.join(ROOT_FILE, map_label[row.groundtruth], f)\n",
    "        img = cv2.imread(img_path, cv2.IMREAD_GRAYSCALE)\n",
    "        \n",
    "        save_path = os.path.join(out_folder, map_label[row.prediction],f)\n",
    "        cv2.imwrite(save_path, img)\n",
    "        \n",
    "\n",
    "\n",
    "path = '/home/clement/Documents/Clement/runs/mlruns/1/d90aa317c79140a587451d6e30c848b0/artifacts/predictions_log.csv'\n",
    "\n",
    "d = list_error_images(path)"
   ]
  },
  {
   "cell_type": "code",
   "execution_count": 19,
   "metadata": {},
   "outputs": [
    {
     "name": "stdout",
     "output_type": "stream",
     "text": [
      "NORMAL-8011538-1.jpeg\n",
      "CNV-456092-1.jpeg\n",
      "CNV-7405074-2.jpeg\n",
      "DRUSEN-9085711-1.jpeg\n",
      "DRUSEN-4047982-2.jpeg\n",
      "DRUSEN-3640470-1.jpeg\n",
      "DRUSEN-2727691-1.jpeg\n",
      "DRUSEN-5989598-1.jpeg\n",
      "DRUSEN-1495504-3.jpeg\n",
      "DRUSEN-8973705-1.jpeg\n",
      "DRUSEN-8060347-1.jpeg\n",
      "DRUSEN-6420074-1.jpeg\n",
      "DRUSEN-449425-1.jpeg\n",
      "DRUSEN-8129501-1.jpeg\n",
      "DRUSEN-2099732-3.jpeg\n",
      "DRUSEN-46150-1.jpeg\n",
      "DRUSEN-5506734-2.jpeg\n",
      "DRUSEN-6420074-2.jpeg\n",
      "DRUSEN-9122207-1.jpeg\n",
      "DRUSEN-9844574-1.jpeg\n",
      "DRUSEN-5558492-1.jpeg\n",
      "DRUSEN-8951295-1.jpeg\n",
      "DRUSEN-7835303-1.jpeg\n",
      "DRUSEN-9393902-1.jpeg\n",
      "DRUSEN-9811107-2.jpeg\n",
      "DRUSEN-3280284-1.jpeg\n",
      "DRUSEN-8579684-1.jpeg\n",
      "DRUSEN-6299603-1.jpeg\n",
      "DRUSEN-6657507-1.jpeg\n",
      "DRUSEN-5424975-1.jpeg\n",
      "DRUSEN-6420074-3.jpeg\n",
      "DRUSEN-642842-3.jpeg\n",
      "DRUSEN-8988481-1.jpeg\n",
      "DRUSEN-2185010-1.jpeg\n",
      "DRUSEN-5506734-5.jpeg\n",
      "DRUSEN-64262-1.jpeg\n",
      "DRUSEN-64262-2.jpeg\n",
      "DRUSEN-3166758-1.jpeg\n",
      "DRUSEN-7831015-1.jpeg\n",
      "DRUSEN-9033941-1.jpeg\n",
      "DRUSEN-9890012-1.jpeg\n",
      "DRUSEN-5348228-1.jpeg\n",
      "DRUSEN-4047982-1.jpeg\n",
      "DRUSEN-11129-4.jpeg\n",
      "DRUSEN-810244-1.jpeg\n",
      "DRUSEN-2099732-2.jpeg\n",
      "DRUSEN-3236775-1.jpeg\n",
      "DRUSEN-5958801-1.jpeg\n",
      "DRUSEN-4280024-1.jpeg\n",
      "DRUSEN-9097062-1.jpeg\n"
     ]
    }
   ],
   "source": [
    "    print(row.file)"
   ]
  },
  {
   "cell_type": "code",
   "execution_count": null,
   "metadata": {},
   "outputs": [],
   "source": []
  }
 ],
 "metadata": {
  "kernelspec": {
   "display_name": "Python [conda env:py37] *",
   "language": "python",
   "name": "conda-env-py37-py"
  },
  "language_info": {
   "codemirror_mode": {
    "name": "ipython",
    "version": 3
   },
   "file_extension": ".py",
   "mimetype": "text/x-python",
   "name": "python",
   "nbconvert_exporter": "python",
   "pygments_lexer": "ipython3",
   "version": "3.7.4"
  }
 },
 "nbformat": 4,
 "nbformat_minor": 2
}
