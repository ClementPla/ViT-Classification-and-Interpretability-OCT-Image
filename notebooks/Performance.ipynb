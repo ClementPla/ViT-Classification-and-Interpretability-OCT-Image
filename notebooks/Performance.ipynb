{
 "cells": [
  {
   "cell_type": "code",
   "execution_count": 1,
   "metadata": {},
   "outputs": [],
   "source": [
    "%load_ext autoreload\n",
    "%autoreload 2\n",
    "\n",
    "import nntools\n",
    "from nntools.utils import load_yaml\n",
    "import numpy as np\n",
    "from sklearn.metrics import ConfusionMatrixDisplay\n",
    "import matplotlib.pyplot as plt\n",
    "\n",
    "import sys\n",
    "sys.path.append('../')\n",
    "\n",
    "from experiment import OCTClassification\n"
   ]
  },
  {
   "cell_type": "code",
   "execution_count": 2,
   "metadata": {
    "scrolled": false
   },
   "outputs": [],
   "source": [
    "config_path = '../config.yaml'\n",
    "config = load_yaml(config_path)\n",
    "config['Manager']['run'] = 'Wide ResNet-101-2'\n",
    "experiment = OCTClassification(config)\n",
    "\n"
   ]
  },
  {
   "cell_type": "code",
   "execution_count": 3,
   "metadata": {},
   "outputs": [],
   "source": [
    "test_dataset = experiment.test_dataset"
   ]
  },
  {
   "cell_type": "code",
   "execution_count": 4,
   "metadata": {},
   "outputs": [],
   "source": [
    "confMat_resNet = np.load('/home/clement/Documents/Clement/runs/mlruns/1/d90aa317c79140a587451d6e30c848b0/artifacts/confMat.npy')\n",
    "confMat_vit = np.load('/home/clement/Documents/Clement/runs/mlruns/1/8cde2d9e96fb475681128bce91f90c07/artifacts/confMat.npy')\n",
    "confMat_OpticNet = np.load('/home/clement/Documents/Clement/runs/mlruns/1/e3c337f9fe6647cf9d61e81109fd6644/artifacts/test_confMat.npy')\n",
    "\n",
    "confs = {'WResNet-101(2)':confMat_resNet, 'ViT_L_32_384':confMat_vit, 'OpticNet71':confMat_OpticNet}\n"
   ]
  },
  {
   "cell_type": "code",
   "execution_count": 5,
   "metadata": {},
   "outputs": [],
   "source": [
    "from bokeh.plotting import figure\n",
    "from bokeh.models import HoverTool, ColumnDataSource\n",
    "from bokeh.io import output_notebook\n",
    "from bokeh.plotting import figure, show, output_file\n",
    "from collections import OrderedDict\n",
    "from bokeh.layouts import layout, widgetbox, column\n",
    "from bokeh.models import CustomJS, ColumnDataSource, Slider"
   ]
  },
  {
   "cell_type": "code",
   "execution_count": 6,
   "metadata": {
    "scrolled": false
   },
   "outputs": [],
   "source": [
    "def disp(confMat, labels) :\n",
    "    TOOLS = \"hover,save,pan\"\n",
    "    the_color = '#00cc66'\n",
    "    \n",
    "    def get_list(cm):\n",
    "        predicted = []\n",
    "        actual = []\n",
    "        count = []\n",
    "        color = []\n",
    "        alpha = []\n",
    "        ratios = []\n",
    "        N = len(labels)\n",
    "        confMatNormalized = cm/cm.sum(0)\n",
    "        for coli in range(N):\n",
    "            for rowi in range(N):\n",
    "                predicted.append(labels[coli])\n",
    "                actual.append(labels[rowi])\n",
    "                count.append(cm[coli,rowi])\n",
    "                ratio = confMatNormalized[coli,rowi]\n",
    "                ratios.append(ratio)\n",
    "                a = min(ratio+0.01, 1)\n",
    "                alpha.append(a)\n",
    "                color.append(the_color)\n",
    "        return predicted, actual, count, color, alpha, ratios\n",
    "    \n",
    "    source_data = {}\n",
    "    if isinstance(confMat, dict):\n",
    "        for i, (k, v) in enumerate(confMat.items()):\n",
    "            predicted, actual, count, color, alpha,ratios = get_list(v)\n",
    "            source_data[str(i)+'count'] = count\n",
    "            source_data[str(i)+'alphas'] = alpha\n",
    "            source_data[str(i)+'ratios'] = ratios\n",
    "\n",
    "            if i == 0:\n",
    "                source_data['predicted'] = predicted\n",
    "                source_data['groundtruth'] = actual\n",
    "                source_data['count'] = count\n",
    "                source_data['colors'] = color\n",
    "                source_data['alphas'] = alpha\n",
    "                source_data['ratios'] = ratios\n",
    "\n",
    "    else:\n",
    "        predicted, actual, count, color, alpha, ratios = get_list(confMat)\n",
    "        source_data['predicted'] = predicted\n",
    "        source_data['groundtruth'] = actual\n",
    "        source_data['count'] = count\n",
    "        source_data['colors'] = color\n",
    "        source_data['alphas'] = alpha\n",
    "        source_data['ratios'] = ratios\n",
    "        \n",
    "    source = ColumnDataSource(data=source_data)\n",
    "    p = figure(title='Confusion Matrix',\n",
    "         x_axis_location=\"above\", tools=\"hover,save\",\n",
    "         y_range=labels[::-1], x_range=labels)\n",
    "    \n",
    "    p.plot_width = 600\n",
    "    p.plot_height = p.plot_width\n",
    "    rectwidth = 0.9\n",
    "    \n",
    "    \n",
    "    p.rect('predicted', 'groundtruth', rectwidth, rectwidth, source=source,\n",
    "          color='colors', alpha='alphas',line_width=1)\n",
    "    \n",
    "    p.text(x='predicted', y='groundtruth', text='count', source=source, text_align='center',\n",
    "           text_baseline='middle')\n",
    "\n",
    "    p.axis.major_label_text_font_size = \"12pt\"\n",
    "    p.axis.major_label_standoff = 1\n",
    "    p.xgrid.visible = False\n",
    "    p.ygrid.visible = False\n",
    "    p.xaxis.axis_label = 'Predicted'\n",
    "    p.yaxis.axis_label = 'Groundtruth'\n",
    "    \n",
    "    \n",
    "    hover = p.select(dict(type=HoverTool))\n",
    "    hover.tooltips = OrderedDict([\n",
    "        ('predicted', '@predicted'),\n",
    "        ('groundtruth', '@groundtruth'),\n",
    "        ('ratio', '@ratios'),\n",
    "\n",
    "    ])\n",
    "    if isinstance(confMat, dict):\n",
    "        from bokeh.models.widgets import RadioButtonGroup\n",
    "        \n",
    "        callback = CustomJS(args=dict(source=source), \n",
    "                            code=\n",
    "                            \"\"\"\n",
    "                            var data = source.data;\n",
    "                            var f = cb_obj.active\n",
    "                            var count = data['count']\n",
    "                            var alphas = data['alphas']\n",
    "                            var ratios = data['ratios']\n",
    "\n",
    "                            for (var i = 0; i < count.length; i++) {\n",
    "                                count[i] = data[f.toString()+'count'][i]\n",
    "                                alphas[i] = data[f.toString()+'alphas'][i]\n",
    "                                ratios[i] = data[f.toString()+'ratios'][i]\n",
    "\n",
    "                            }\n",
    "                            source.change.emit();\n",
    "                            \"\"\"\n",
    "                           )\n",
    "        radio_button_group = RadioButtonGroup(labels=list(confMat.keys()), active=0, callback=callback)\n",
    "        radio_button_group.js_on_change('active', callback)\n",
    "        \n",
    "        p = column(radio_button_group, p)\n",
    "    return p\n",
    "labels = test_dataset.map_class.keys()\n",
    "p = disp(confs, list(labels))\n",
    "# output_notebook()\n",
    "# show(p)"
   ]
  },
  {
   "cell_type": "code",
   "execution_count": 7,
   "metadata": {},
   "outputs": [],
   "source": [
    "from bokeh.embed import file_html\n",
    "from bokeh.resources import CDN\n",
    "html = file_html(p, CDN, \"ConfMat\")"
   ]
  },
  {
   "cell_type": "code",
   "execution_count": 8,
   "metadata": {},
   "outputs": [],
   "source": [
    "with open(\"ConfMat.html\", \"w\") as text_file:\n",
    "    text_file.write(html)"
   ]
  },
  {
   "cell_type": "code",
   "execution_count": null,
   "metadata": {},
   "outputs": [],
   "source": []
  }
 ],
 "metadata": {
  "kernelspec": {
   "display_name": "Python [conda env:py37] *",
   "language": "python",
   "name": "conda-env-py37-py"
  },
  "language_info": {
   "codemirror_mode": {
    "name": "ipython",
    "version": 3
   },
   "file_extension": ".py",
   "mimetype": "text/x-python",
   "name": "python",
   "nbconvert_exporter": "python",
   "pygments_lexer": "ipython3",
   "version": "3.7.4"
  }
 },
 "nbformat": 4,
 "nbformat_minor": 2
}
