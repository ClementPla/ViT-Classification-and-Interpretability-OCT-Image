{
 "cells": [
  {
   "cell_type": "code",
   "execution_count": 8,
   "id": "every-procurement",
   "metadata": {},
   "outputs": [],
   "source": [
    "import sys\n",
    "import torch\n",
    "from thop import profile\n",
    "sys.path.append('../')\n",
    "from networks.networks import get_network\n",
    "\n",
    "from networks import T2T\n",
    "import timm"
   ]
  },
  {
   "cell_type": "code",
   "execution_count": null,
   "id": "beautiful-health",
   "metadata": {},
   "outputs": [],
   "source": [
    "\n",
    "\n"
   ]
  },
  {
   "cell_type": "code",
   "execution_count": 24,
   "id": "veterinary-steal",
   "metadata": {
    "scrolled": false
   },
   "outputs": [
    {
     "name": "stdout",
     "output_type": "stream",
     "text": [
      "adopt performer encoder for tokens-to-token\n",
      "\u001b[91m[WARN] Cannot find rule for <class 'torch.nn.modules.fold.Unfold'>. Treat it as zero Macs and zero Params.\u001b[00m\n",
      "[INFO] Register count_linear() for <class 'torch.nn.modules.linear.Linear'>.\n",
      "[INFO] Register zero_ops() for <class 'torch.nn.modules.dropout.Dropout'>.\n",
      "\u001b[91m[WARN] Cannot find rule for <class 'torch.nn.modules.normalization.LayerNorm'>. Treat it as zero Macs and zero Params.\u001b[00m\n",
      "\u001b[91m[WARN] Cannot find rule for <class 'torch.nn.modules.activation.GELU'>. Treat it as zero Macs and zero Params.\u001b[00m\n",
      "\u001b[91m[WARN] Cannot find rule for <class 'torch.nn.modules.container.Sequential'>. Treat it as zero Macs and zero Params.\u001b[00m\n",
      "\u001b[91m[WARN] Cannot find rule for <class 'networks.T2T.models.token_performer.Token_performer'>. Treat it as zero Macs and zero Params.\u001b[00m\n",
      "\u001b[91m[WARN] Cannot find rule for <class 'networks.T2T.models.t2t_vit.T2T_module'>. Treat it as zero Macs and zero Params.\u001b[00m\n",
      "\u001b[91m[WARN] Cannot find rule for <class 'networks.T2T.models.transformer_block.Attention'>. Treat it as zero Macs and zero Params.\u001b[00m\n",
      "\u001b[91m[WARN] Cannot find rule for <class 'torch.nn.modules.linear.Identity'>. Treat it as zero Macs and zero Params.\u001b[00m\n",
      "\u001b[91m[WARN] Cannot find rule for <class 'networks.T2T.models.transformer_block.Mlp'>. Treat it as zero Macs and zero Params.\u001b[00m\n",
      "\u001b[91m[WARN] Cannot find rule for <class 'networks.T2T.models.transformer_block.Block'>. Treat it as zero Macs and zero Params.\u001b[00m\n",
      "\u001b[91m[WARN] Cannot find rule for <class 'torch.nn.modules.container.ModuleList'>. Treat it as zero Macs and zero Params.\u001b[00m\n",
      "\u001b[91m[WARN] Cannot find rule for <class 'networks.T2T.models.t2t_vit.T2T_ViT'>. Treat it as zero Macs and zero Params.\u001b[00m\n"
     ]
    },
    {
     "data": {
      "text/plain": [
       "('12.695G', '21.058M')"
      ]
     },
     "execution_count": 24,
     "metadata": {},
     "output_type": "execute_result"
    }
   ],
   "source": [
    "config = {'architecture':'T2T-ViT_t-14',\n",
    "          'pretrained':False,\n",
    "          'n_classes':4\n",
    "         }\n",
    "img_size = 384\n",
    "\n",
    "inp = torch.randn(1,3,img_size,img_size)\n",
    "network = get_network(config, img_size)\n",
    "Attention = T2T.models.transformer_block.Attention\n",
    "Attention = timm.models.vision_transformer.Attention\n",
    "def count_your_model(model, x, y):\n",
    "    x = x[0]\n",
    "    B, N, C = x.shape\n",
    "    total_ops = B*N*N*(C+C-1) # Q*K = Attention\n",
    "    total_ops +=   B*N*C*(C+C-1)# V*Attention\n",
    "    model.total_ops += torch.DoubleTensor([int(total_ops)])\n",
    "\n",
    "macs, params = profile(network, inputs=(inp, ), custom_ops={Attention: count_your_model})\n",
    "\n",
    "\n",
    "from thop import clever_format\n",
    "clever_format([macs, params], \"%.3f\")"
   ]
  },
  {
   "cell_type": "code",
   "execution_count": null,
   "id": "offshore-albania",
   "metadata": {},
   "outputs": [],
   "source": []
  },
  {
   "cell_type": "code",
   "execution_count": null,
   "id": "civic-windows",
   "metadata": {},
   "outputs": [],
   "source": []
  }
 ],
 "metadata": {
  "kernelspec": {
   "display_name": "Python [conda env:py37] *",
   "language": "python",
   "name": "conda-env-py37-py"
  },
  "language_info": {
   "codemirror_mode": {
    "name": "ipython",
    "version": 3
   },
   "file_extension": ".py",
   "mimetype": "text/x-python",
   "name": "python",
   "nbconvert_exporter": "python",
   "pygments_lexer": "ipython3",
   "version": "3.7.10"
  }
 },
 "nbformat": 4,
 "nbformat_minor": 5
}
